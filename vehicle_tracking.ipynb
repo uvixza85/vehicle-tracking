{
  "nbformat": 4,
  "nbformat_minor": 0,
  "metadata": {
    "colab": {
      "provenance": [],
      "include_colab_link": true
    },
    "kernelspec": {
      "name": "python3",
      "display_name": "Python 3"
    },
    "language_info": {
      "name": "python"
    }
  },
  "cells": [
    {
      "cell_type": "markdown",
      "metadata": {
        "id": "view-in-github",
        "colab_type": "text"
      },
      "source": [
        "<a href=\"https://colab.research.google.com/github/uvixza85/vehicle-tracking/blob/main/vehicle_tracking.ipynb\" target=\"_parent\"><img src=\"https://colab.research.google.com/assets/colab-badge.svg\" alt=\"Open In Colab\"/></a>"
      ]
    },
    {
      "cell_type": "markdown",
      "source": [
        "Run this cell only once to install the necessary dependancies"
      ],
      "metadata": {
        "id": "_DSFVZPZd_cV"
      }
    },
    {
      "cell_type": "code",
      "source": [
        "# !pip install ultralytics"
      ],
      "metadata": {
        "id": "TvGb2u9aZmIo"
      },
      "execution_count": null,
      "outputs": []
    },
    {
      "cell_type": "code",
      "source": [
        "import ultralytics\n",
        "from ultralytics import YOLO\n",
        "ultralytics.__version__"
      ],
      "metadata": {
        "id": "HEs1kN-ucWcK",
        "colab": {
          "base_uri": "https://localhost:8080/",
          "height": 35
        },
        "outputId": "1d434ea4-97d2-4e04-cd23-9d3fabf64d25"
      },
      "execution_count": null,
      "outputs": [
        {
          "output_type": "execute_result",
          "data": {
            "text/plain": [
              "'8.2.82'"
            ],
            "application/vnd.google.colaboratory.intrinsic+json": {
              "type": "string"
            }
          },
          "metadata": {},
          "execution_count": 13
        }
      ]
    },
    {
      "cell_type": "code",
      "source": [
        "import cv2\n",
        "from google.colab.patches import cv2_imshow"
      ],
      "metadata": {
        "id": "gRkd-2K6bQvQ"
      },
      "execution_count": null,
      "outputs": []
    },
    {
      "cell_type": "code",
      "source": [
        "# Initializing the model\n",
        "MODEL = 'yolov8n.pt'\n",
        "model = YOLO(MODEL)"
      ],
      "metadata": {
        "id": "sUpRiggQdaRl"
      },
      "execution_count": null,
      "outputs": []
    },
    {
      "cell_type": "markdown",
      "source": [
        "Upload a sample video of incoming and outgoing traffic to process. Name the video 'sample1.mp4'. Make sure to upload it in the root folder and run this cell only then. Change the value of OUTPUT_PATH to change the name and/or the destination of the processed video."
      ],
      "metadata": {
        "id": "0FUoYBpqeG__"
      }
    },
    {
      "cell_type": "code",
      "source": [
        "VIDEO_PATH = './sample1.mp4'\n",
        "capture = cv2.VideoCapture(VIDEO_PATH)\n",
        "\n",
        "OUTPUT_PATH = './processed_video.mp4'"
      ],
      "metadata": {
        "id": "gpw-aramfVhI"
      },
      "execution_count": null,
      "outputs": []
    },
    {
      "cell_type": "markdown",
      "source": [
        "Feel free to adjust the line_position variable according to different datasets to optimize results. This line is used to track incoming and outgoing traffic."
      ],
      "metadata": {
        "id": "nTzicZcgecz5"
      }
    },
    {
      "cell_type": "code",
      "source": [
        "# Defining video properties for output video\n",
        "frame_width = int(capture.get(3))\n",
        "frame_height = int(capture.get(4))\n",
        "fps = capture.get(cv2.CAP_PROP_FPS)\n",
        "\n",
        "# Creating video writer object\n",
        "fourcc = cv2.VideoWriter_fourcc(*'mp4v')\n",
        "out = cv2.VideoWriter(OUTPUT_PATH, fourcc, fps, (frame_width, frame_height))\n",
        "\n",
        "# line_position = frame_height // 2\n",
        "line_position = int(3 / 4 * frame_height)\n",
        "\n",
        "# Initializing variables for store vehicle counts\n",
        "vehicle_counter = {'entering': 0, 'exiting': 0}\n",
        "object_tracker = {}"
      ],
      "metadata": {
        "id": "YLbeMXjZWj8J"
      },
      "execution_count": null,
      "outputs": []
    },
    {
      "cell_type": "markdown",
      "source": [
        "Run this code to render the results for a single frame. It’s recommended to do this first to ensure all parameters are set correctly. Making any necessary adjustments at this stage is a good idea before processing the entire video."
      ],
      "metadata": {
        "id": "zKcBTrlLfKhW"
      }
    },
    {
      "source": [
        "# Read a single frame\n",
        "ret = True;\n",
        "\n",
        "ret, frame = capture.read()\n",
        "if ret:\n",
        "\n",
        "  # Tracking with YOLO model\n",
        "  res = model.track(frame, persist=True)\n",
        "  processed_frame = res[0].plot()\n",
        "\n",
        "  cv2.line(processed_frame, (0, line_position), (frame_width, line_position), (0, 255, 0), 5)\n",
        "\n",
        "  # Vehicle Tracker Visualization\n",
        "  for obj_id, obj_center in object_tracker.items():\n",
        "      cv2.circle(processed_frame, obj_center, 5, (0, 0, 255), -1)  # Draw a red circle at object center\n",
        "\n",
        "  # Display the processed frame\n",
        "  cv2_imshow(processed_frame)"
      ],
      "cell_type": "code",
      "metadata": {
        "id": "Xpewbe4AWm1n"
      },
      "execution_count": null,
      "outputs": []
    },
    {
      "cell_type": "markdown",
      "source": [
        "The video is processed and written to OUTPUT_PATH at the specified destination and with the specified name."
      ],
      "metadata": {
        "id": "cG7m3N_ufm60"
      }
    },
    {
      "cell_type": "code",
      "source": [
        "# Tracking objects throughout the video and processing\n",
        "ret = True\n",
        "while ret:\n",
        "    ret, frame = capture.read()\n",
        "    if not ret:\n",
        "        break\n",
        "\n",
        "    # Tracking with YOLO model\n",
        "    res = model.track(frame, persist=True)\n",
        "    processed_frame = res[0].plot()\n",
        "\n",
        "    cv2.line(processed_frame, (0, line_position), (frame_width, line_position), (0, 255, 0), 5)\n",
        "\n",
        "    text = f\"Entering: {vehicle_counter['entering']} | Exiting: {vehicle_counter['exiting']}\"\n",
        "    cv2.putText(processed_frame, text, (40, 50), cv2.FONT_HERSHEY_SIMPLEX, 1.3, (0, 255, 255), 2, cv2.LINE_AA)\n",
        "\n",
        "\n",
        "    # Iterating over each detection in the frame\n",
        "    for r in res:\n",
        "        for obj in r.boxes:\n",
        "            obj_id = obj.id.item()  # Object ID assigned by YOLO\n",
        "            obj_center = (int(obj.xywh[0][0]), int(obj.xywh[0][1]))\n",
        "\n",
        "            if obj_id in object_tracker:\n",
        "                last_position = object_tracker[obj_id]\n",
        "\n",
        "                # Checking if object has crossed the line\n",
        "                if last_position[1] < line_position <= obj_center[1]:\n",
        "                    vehicle_counter['entering'] += 1\n",
        "                elif last_position[1] > line_position >= obj_center[1]:\n",
        "                    vehicle_counter['exiting'] += 1\n",
        "\n",
        "            object_tracker[obj_id] = obj_center\n",
        "\n",
        "    # Writing processed frame to output video\n",
        "    out.write(processed_frame)\n",
        "\n",
        "capture.release()\n",
        "out.release()\n",
        "print(f\"Processed video saved to {OUTPUT_PATH}\")\n",
        "print(f\"Vehicles Entering: {vehicle_counter['entering']}, Vehicles Exiting: {vehicle_counter['exiting']}\")"
      ],
      "metadata": {
        "colab": {
          "base_uri": "https://localhost:8080/"
        },
        "id": "Dj_dcIOgmwLr",
        "outputId": "3cca16e5-cc20-4a6d-aac2-e1682d899c74"
      },
      "execution_count": null,
      "outputs": [
        {
          "output_type": "stream",
          "name": "stdout",
          "text": [
            "Processed video saved to ./processed_video.mp4\n",
            "Vehicles Entering: 0, Vehicles Exiting: 0\n"
          ]
        }
      ]
    }
  ]
}